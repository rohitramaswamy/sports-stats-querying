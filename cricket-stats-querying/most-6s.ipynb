{
 "cells": [
  {
   "cell_type": "code",
   "execution_count": 2,
   "metadata": {},
   "outputs": [
    {
     "name": "stderr",
     "output_type": "stream",
     "text": [
      "/Users/rohitramaswamy/Desktop/programming-stuff/sports-data-scraping/.venv/lib/python3.9/site-packages/urllib3/__init__.py:35: NotOpenSSLWarning: urllib3 v2 only supports OpenSSL 1.1.1+, currently the 'ssl' module is compiled with 'LibreSSL 2.8.3'. See: https://github.com/urllib3/urllib3/issues/3020\n",
      "  warnings.warn(\n"
     ]
    }
   ],
   "source": [
    "import pandas as pd\n",
    "import requests\n",
    "from bs4 import BeautifulSoup\n",
    "from io import StringIO"
   ]
  },
  {
   "cell_type": "code",
   "execution_count": 3,
   "metadata": {},
   "outputs": [],
   "source": [
    "\n",
    "\n",
    "headers = {\n",
    "    'User-Agent': 'Mozilla/5.0 (Windows NT 10.0; Win64; x64) AppleWebKit/537.36 (KHTML, like Gecko) Chrome/58.0.3029.110 Safari/537.3'\n",
    "}\n"
   ]
  },
  {
   "cell_type": "code",
   "execution_count": 25,
   "metadata": {},
   "outputs": [],
   "source": []
  },
  {
   "cell_type": "code",
   "execution_count": 35,
   "metadata": {},
   "outputs": [
    {
     "name": "stdout",
     "output_type": "stream",
     "text": [
      "An error occurred: 'Country_y'\n",
      "            Player 1980 1981 1982 1983 1984 1985 1986 1987 1988  ... 2016  \\\n",
      "0       A Flintoff  NaN  NaN  NaN  NaN  NaN  NaN  NaN  NaN  NaN  ...  NaN   \n",
      "1         A Jadeja  NaN  NaN  NaN  NaN  NaN  NaN  NaN  NaN  NaN  ...  NaN   \n",
      "2      A Ranatunga  NaN  NaN  NaN  NaN  NaN  NaN  NaN  NaN  NaN  ...  NaN   \n",
      "3        A Symonds  NaN  NaN  NaN  NaN  NaN  NaN  NaN  NaN  NaN  ...  NaN   \n",
      "4   AB de Villiers  NaN  NaN  NaN  NaN  NaN  NaN  NaN  NaN  NaN  ...  187   \n",
      "..             ...  ...  ...  ...  ...  ...  ...  ...  ...  ...  ...  ...   \n",
      "79     Wasim Akram  NaN  NaN  NaN  NaN  NaN  NaN  NaN  NaN  NaN  ...  NaN   \n",
      "80      Wasim Raja   5+   5+   7+   9+  11+  NaN  NaN  NaN  NaN  ...  NaN   \n",
      "81  Yashpal Sharma  NaN  NaN  NaN  10+  10+  NaN  NaN  NaN  NaN  ...  NaN   \n",
      "82    Yuvraj Singh  NaN  NaN  NaN  NaN  NaN  NaN  NaN  NaN  NaN  ...  148   \n",
      "83    Zaheer Abbas   4+  NaN   8+  19+  21+  22+  22+  22+  22+  ...  NaN   \n",
      "\n",
      "   2017 2018 2019 2020 2021 2022 2023 2024   Country  \n",
      "0   NaN  NaN  NaN  NaN  NaN  NaN  NaN  NaN   ENG/ICC  \n",
      "1   NaN  NaN  NaN  NaN  NaN  NaN  NaN  NaN       IND  \n",
      "2   NaN  NaN  NaN  NaN  NaN  NaN  NaN  NaN        SL  \n",
      "3   NaN  NaN  NaN  NaN  NaN  NaN  NaN  NaN       AUS  \n",
      "4   194  204  204  204  204  204  204  204    Afr/SA  \n",
      "..  ...  ...  ...  ...  ...  ...  ...  ...       ...  \n",
      "79  NaN  NaN  NaN  NaN  NaN  NaN  NaN  NaN       PAK  \n",
      "80  NaN  NaN  NaN  NaN  NaN  NaN  NaN  NaN       PAK  \n",
      "81  NaN  NaN  NaN  NaN  NaN  NaN  NaN  NaN       IND  \n",
      "82  155  155  155  155  155  155  155  155  Asia/IND  \n",
      "83  NaN  NaN  NaN  NaN  NaN  NaN  NaN  NaN       PAK  \n",
      "\n",
      "[84 rows x 47 columns]\n"
     ]
    }
   ],
   "source": [
    "# Define the function to separate name and code\n",
    "def separate_name_and_code(input_string):\n",
    "    name, code = input_string.split(' (')\n",
    "    code = code.rstrip(')')\n",
    "    return pd.Series([name, code])\n",
    "\n",
    "\n",
    "def clean_countries(text):\n",
    "    text = text.replace('ICC', '')\n",
    "    text = text.replace('Afr', '')\n",
    "    text = text.replace('/', '')\n",
    "    text = text.replace('Asia', '')\n",
    "\n",
    "    return text\n",
    "# Initialize current_df correctly\n",
    "current_df = pd.DataFrame(columns=[\"Player\"])\n",
    "\n",
    "year = 1980\n",
    "for i in range(2025-year):\n",
    "    url = f'https://stats.espncricinfo.com/ci/engine/stats/index.html?class=2;spanmax1=10+Jul+{year};spanval1=span;orderby=sixes;template=results;type=batting'\n",
    "    try:\n",
    "        response = requests.get(url, headers=headers)\n",
    "        response.raise_for_status()  # Check if the request was successful\n",
    "\n",
    "        # Parse the HTML content\n",
    "        soup = BeautifulSoup(response.content, 'html.parser')\n",
    "\n",
    "        # Find all tables in the page\n",
    "        tables = soup.find_all('table')\n",
    "\n",
    "        # Convert the first table to a pandas DataFrame\n",
    "        if tables:\n",
    "            df = pd.DataFrame(pd.read_html(StringIO(str(tables[2])))[0]).head(20)\n",
    "            if 'Player' in df.columns and '6s' in df.columns:\n",
    "                df = df[['Player', '6s']]\n",
    "                df.rename(columns={'6s': f'{year}'}, inplace=True)\n",
    "                df[['Player', 'Country']] = df['Player'].apply(separate_name_and_code)\n",
    "\n",
    "                current_df = pd.merge(current_df, df, on='Player', how='outer')\n",
    "                current_df['Country'] = current_df['Country_y'].combine_first(current_df['Country_x'])\n",
    "                current_df = current_df.drop(columns=['Country_x', 'Country_y'])\n",
    "\n",
    "\n",
    "\n",
    "\n",
    "            else:\n",
    "                print(f\"'Player' or 'Runs' column not found for the year {year}\")\n",
    "        else:\n",
    "            print(\"No tables found on the page.\")\n",
    "    except requests.HTTPError as e:\n",
    "        print(f\"HTTP error occurred: {e.response.status_code} - {e.response.reason}\")\n",
    "    except Exception as e:\n",
    "        print(f\"An error occurred: {str(e)}\")\n",
    "\n",
    "    year = year + 1\n",
    "    \n",
    "\n",
    "\n",
    "\n",
    "\n",
    "\n",
    "# Apply the function and create two new columns\n",
    "\n",
    "\n",
    "# current_df['Country'] = current_df['Country'].apply(clean_countries)\n",
    "# Apply the function to the column\n",
    "\n",
    "\n",
    "print(current_df)\n"
   ]
  },
  {
   "cell_type": "code",
   "execution_count": 36,
   "metadata": {},
   "outputs": [],
   "source": [
    "\n",
    "current_df['Country'] = current_df['Country'].apply(clean_countries)\n",
    "# Apply the function to the column\n",
    "\n",
    "current_df.replace(to_replace=r'\\+', value='', regex=True, inplace=True)\n"
   ]
  },
  {
   "cell_type": "code",
   "execution_count": 37,
   "metadata": {},
   "outputs": [
    {
     "name": "stdout",
     "output_type": "stream",
     "text": [
      "            Name  Code Shortcode  \\\n",
      "245        Yemen    YE      :YE:   \n",
      "246       Zambia    ZM      :ZM:   \n",
      "247     Zimbabwe   ZIM     :ZIM:   \n",
      "248  West Indies    WI       NaN   \n",
      "249     Scotland  SCOT       NaN   \n",
      "\n",
      "                                   Lowercase shortcode  \n",
      "245                                                 ye  \n",
      "246                                                 zm  \n",
      "247                                                 zw  \n",
      "248  https://upload.wikimedia.org/wikipedia/en/9/9b...  \n",
      "249  https://upload.wikimedia.org/wikipedia/commons...  \n",
      "           Player 1980 1981 1982 1983 1984 1985 1986 1987 1988  ... 2017 2018  \\\n",
      "0      A Flintoff  NaN  NaN  NaN  NaN  NaN  NaN  NaN  NaN  NaN  ...  NaN  NaN   \n",
      "1        A Jadeja  NaN  NaN  NaN  NaN  NaN  NaN  NaN  NaN  NaN  ...  NaN  NaN   \n",
      "2     A Ranatunga  NaN  NaN  NaN  NaN  NaN  NaN  NaN  NaN  NaN  ...  NaN  NaN   \n",
      "3       A Symonds  NaN  NaN  NaN  NaN  NaN  NaN  NaN  NaN  NaN  ...  NaN  NaN   \n",
      "4  AB de Villiers  NaN  NaN  NaN  NaN  NaN  NaN  NaN  NaN  NaN  ...  194  204   \n",
      "\n",
      "  2019 2020 2021 2022 2023 2024 Country  \\\n",
      "0  NaN  NaN  NaN  NaN  NaN  NaN     ENG   \n",
      "1  NaN  NaN  NaN  NaN  NaN  NaN     IND   \n",
      "2  NaN  NaN  NaN  NaN  NaN  NaN      SL   \n",
      "3  NaN  NaN  NaN  NaN  NaN  NaN     AUS   \n",
      "4  204  204  204  204  204  204      SA   \n",
      "\n",
      "                                                Flag  \n",
      "0  https://public.flourish.studio/country-flags/s...  \n",
      "1  https://public.flourish.studio/country-flags/s...  \n",
      "2  https://public.flourish.studio/country-flags/s...  \n",
      "3  https://public.flourish.studio/country-flags/s...  \n",
      "4  https://public.flourish.studio/country-flags/s...  \n",
      "\n",
      "[5 rows x 48 columns]\n"
     ]
    }
   ],
   "source": [
    "\n",
    "# List of countries\n",
    "countries = pd.read_csv(r'tools/shortcodes.csv', dtype=str)  \n",
    "\n",
    "print(countries.tail(5))\n",
    "\n",
    "# row_index = countries[countries[\"Code\"] == 'IND'].index[0]\n",
    "# print(row_index)\n",
    "\n",
    "# Function to get Shortcode based on Code\n",
    "def get_row(input):\n",
    "    rows = countries[countries[\"Code\"] == input].index\n",
    "    if len(rows) > 0:\n",
    "        row_index = rows[0]\n",
    "        if len(countries.loc[row_index, \"Lowercase shortcode\"]) == 2:\n",
    "            return f'https://public.flourish.studio/country-flags/svg/{countries.loc[row_index, \"Lowercase shortcode\"]}.svg'\n",
    "        else:\n",
    "            return countries.loc[row_index, \"Lowercase shortcode\"]\n",
    "    else:\n",
    "        return 'Unknown'  # Or any default value you want to assign\n",
    "\n",
    "# Apply function to get Shortcode for each country in current_df\n",
    "current_df[\"Flag\"] = current_df[\"Country\"].apply(get_row)\n",
    "\n",
    "print(current_df.head(5))"
   ]
  },
  {
   "cell_type": "code",
   "execution_count": 38,
   "metadata": {},
   "outputs": [],
   "source": [
    "excel_file = \"output.xlsx\" \n",
    " \n",
    "# Write DataFrame to Excel \n",
    "current_df.to_excel(excel_file, index=False) "
   ]
  }
 ],
 "metadata": {
  "kernelspec": {
   "display_name": ".venv",
   "language": "python",
   "name": "python3"
  },
  "language_info": {
   "codemirror_mode": {
    "name": "ipython",
    "version": 3
   },
   "file_extension": ".py",
   "mimetype": "text/x-python",
   "name": "python",
   "nbconvert_exporter": "python",
   "pygments_lexer": "ipython3",
   "version": "3.9.6"
  }
 },
 "nbformat": 4,
 "nbformat_minor": 2
}
